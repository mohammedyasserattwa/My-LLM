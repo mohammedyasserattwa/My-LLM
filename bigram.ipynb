{
 "cells": [
  {
   "cell_type": "code",
   "execution_count": 35,
   "metadata": {},
   "outputs": [
    {
     "name": "stdout",
     "output_type": "stream",
     "text": [
      "cuda\n"
     ]
    }
   ],
   "source": [
    "import torch\n",
    "import torch.nn as nn\n",
    "from torch.nn import functional as F\n",
    "device = 'cuda' if torch.cuda.is_available() else 'cpu'\n",
    "print(device)\n",
    "block_size = 8\n",
    "batch_size = 4\n",
    "max_iters = 10000\n",
    "learning_rate = 3e-4\n",
    "eval_iters = 250\n",
    "# dropout = 0.2"
   ]
  },
  {
   "cell_type": "code",
   "execution_count": 36,
   "metadata": {},
   "outputs": [
    {
     "name": "stdout",
     "output_type": "stream",
     "text": [
      "['\\n', ' ', '!', '\"', '&', \"'\", '(', ')', '*', ',', '-', '.', '0', '1', '2', '3', '4', '5', '6', '7', '8', '9', ':', ';', '?', 'A', 'B', 'C', 'D', 'E', 'F', 'G', 'H', 'I', 'J', 'K', 'L', 'M', 'N', 'O', 'P', 'Q', 'R', 'S', 'T', 'U', 'V', 'W', 'X', 'Y', 'Z', '[', ']', '_', 'a', 'b', 'c', 'd', 'e', 'f', 'g', 'h', 'i', 'j', 'k', 'l', 'm', 'n', 'o', 'p', 'q', 'r', 's', 't', 'u', 'v', 'w', 'x', 'y', 'z', '\\ufeff']\n"
     ]
    }
   ],
   "source": [
    "with open('wizard_of_oz.txt', 'r', encoding='utf-8') as f:\n",
    "    text = f.read()\n",
    "chars = sorted(set(text))\n",
    "print(chars)\n",
    "vocabulary_size = len(chars)\n"
   ]
  },
  {
   "cell_type": "code",
   "execution_count": 37,
   "metadata": {},
   "outputs": [
    {
     "name": "stdout",
     "output_type": "stream",
     "text": [
      "tensor([80,  1,  1, 28, 39, 42, 39, 44, 32, 49,  1, 25, 38, 28,  1, 44, 32, 29,\n",
      "         1, 47, 33, 50, 25, 42, 28,  1, 33, 38,  1, 39, 50,  0,  0,  1,  1, 26,\n",
      "        49,  0,  0,  1,  1, 36, 11,  1, 30, 42, 25, 38, 35,  1, 26, 25, 45, 37,\n",
      "         0,  0,  1,  1, 25, 45, 44, 32, 39, 42,  1, 39, 30,  1, 44, 32, 29,  1,\n",
      "        47, 33, 50, 25, 42, 28,  1, 39, 30,  1, 39, 50,  9,  1, 44, 32, 29,  1,\n",
      "        36, 25, 38, 28,  1, 39, 30,  1, 39, 50])\n"
     ]
    }
   ],
   "source": [
    "string_to_int = { ch:i for i,ch in enumerate(chars) }\n",
    "int_to_string = { i:ch for i, ch in enumerate(chars) }\n",
    "encode = lambda s: [string_to_int[c] for c in s]\n",
    "decode = lambda l: ''.join([int_to_string[i] for i in l])\n",
    "\n",
    "data = torch.tensor(encode(text), dtype=torch.long)\n",
    "print(data[:100])"
   ]
  },
  {
   "cell_type": "code",
   "execution_count": 38,
   "metadata": {},
   "outputs": [
    {
     "name": "stdout",
     "output_type": "stream",
     "text": [
      "inputs: \n",
      "tensor([[67,  1, 54, 72,  1, 61, 58,  1],\n",
      "        [69, 71, 62, 72, 68, 67, 58, 71],\n",
      "        [74,  1, 56, 54, 67,  1, 69, 71],\n",
      "        [57,  9,  1, 54, 67, 57,  1, 61]], device='cuda:0')\n",
      "targets: \n",
      "tensor([[ 1, 54, 72,  1, 61, 58,  1, 76],\n",
      "        [71, 62, 72, 68, 67, 58, 71, 72],\n",
      "        [ 1, 56, 54, 67,  1, 69, 71, 68],\n",
      "        [ 9,  1, 54, 67, 57,  1, 61, 58]], device='cuda:0')\n"
     ]
    }
   ],
   "source": [
    "n = int(0.8*len(data))\n",
    "train_data = data[:n]\n",
    "val_data = data[n:]\n",
    "\n",
    "def get_batch(split):\n",
    "    data = train_data if split == 'train' else val_data\n",
    "    ix = torch.randint(len(data) - block_size, (batch_size,))\n",
    "    x = torch.stack([data[i:i+block_size] for i in ix])\n",
    "    y = torch.stack([data[i+1:i+block_size+1] for i in ix])\n",
    "    x,y = x.to(device), y.to(device)\n",
    "    return x, y\n",
    "\n",
    "x, y = get_batch('train')\n",
    "print(\"inputs: \")\n",
    "print(x)\n",
    "\n",
    "print(\"targets: \")\n",
    "print(y)"
   ]
  },
  {
   "cell_type": "code",
   "execution_count": 39,
   "metadata": {},
   "outputs": [
    {
     "name": "stdout",
     "output_type": "stream",
     "text": [
      "when input is  tensor([80])  target is  tensor(1)\n",
      "when input is  tensor([80,  1])  target is  tensor(1)\n",
      "when input is  tensor([80,  1,  1])  target is  tensor(28)\n",
      "when input is  tensor([80,  1,  1, 28])  target is  tensor(39)\n",
      "when input is  tensor([80,  1,  1, 28, 39])  target is  tensor(42)\n",
      "when input is  tensor([80,  1,  1, 28, 39, 42])  target is  tensor(39)\n",
      "when input is  tensor([80,  1,  1, 28, 39, 42, 39])  target is  tensor(44)\n",
      "when input is  tensor([80,  1,  1, 28, 39, 42, 39, 44])  target is  tensor(32)\n"
     ]
    }
   ],
   "source": [
    "\n",
    "\n",
    "x = train_data[:block_size]\n",
    "y = train_data[1:block_size+1]\n",
    "\n",
    "for t in range(block_size):\n",
    "    context = x[:t+1]\n",
    "    target = y[t]\n",
    "    print('when input is ', context , ' target is ', target)"
   ]
  },
  {
   "cell_type": "code",
   "execution_count": 45,
   "metadata": {},
   "outputs": [],
   "source": [
    "@torch.no_grad()\n",
    "def estimate_loss():\n",
    "    out = {}\n",
    "    model.eval()\n",
    "    for split in ['train', 'val']:\n",
    "        losses = torch.zeros(eval_iters)\n",
    "        for k in range(eval_iters):\n",
    "            X,Y = get_batch(split)\n",
    "            logits, loss = model(X,Y)\n",
    "            losses[k] = loss.item()\n",
    "        out[split] = losses.mean()\n",
    "    model.train()\n",
    "    return out"
   ]
  },
  {
   "cell_type": "code",
   "execution_count": 41,
   "metadata": {},
   "outputs": [
    {
     "name": "stdout",
     "output_type": "stream",
     "text": [
      "\n",
      "C5;-_Pb8x-nP(c])*dsM﻿Xf0\"c1sB(m﻿h!-_zv_mD apjKMUZ6jwgfc\"5OaTXDFELi?zc\"LMiOkr&717!:UCMm5V;4C5220OS1:1pdKw]3eANTGE\n",
      "_GZx!AU0xZ8Y:OCKdB5;(_WxZdq!l:Nn\"_qsGCEV6?z﻿M2'yjXftr&VJ69wQ1,,mwOvSs'r1﻿F\"mL'_Co0W2khQl2OO1g5_:T5i(exnGw7JGDnfUO]Fqt BG[DGqy'7U)C5;[BM5R[W]dgyygVJi\"QQ6;(,Yq05on\"Sr.mSWy8L\n",
      "yjXM)LS4OF,ykL(_- c]w]6pNeDWR]u-24T!2?8(-Akjqx-(X3?QDbz2 F16O2k!CH9saZZZ-H?tPG]d!pgfl]awn\n",
      "xb\n",
      "eNPI-x﻿hNZ[KQwvaD*v2jhkDZM6RT5&a4mnznQU1﻿lSsKgmLT\"];-W(*2-xZ,fdgaU\"*yGJ;4K)HsPX_﻿Afl]et\n",
      "oJ.mR]T(B3\n",
      ";tET\"LTabnd_'y[q;KG*]5e\n"
     ]
    }
   ],
   "source": [
    "class BigramLanguageModel(nn.Module):\n",
    "    def __init__(self, vocab_size):\n",
    "        super().__init__()\n",
    "        self.token_embedding_table = nn.Embedding(vocab_size, vocab_size)\n",
    "\n",
    "    def forward(self, index, targets=None):\n",
    "        logits = self.token_embedding_table(index)\n",
    "        if targets is None:\n",
    "            loss = None\n",
    "        else:\n",
    "            B, T, C = logits.shape\n",
    "            logits = logits.view(B*T, C)\n",
    "            targets = targets.view(B*T)\n",
    "            loss = F.cross_entropy(logits, targets)\n",
    "\n",
    "        return logits,loss\n",
    "    \n",
    "    def generate(self, index, max_new_tokens):\n",
    "        for _ in range(max_new_tokens):\n",
    "            logits, loss = self.forward(index)\n",
    "            logits = logits[:,-1,:]\n",
    "            probs = F.softmax(logits, dim=-1)\n",
    "            index_next = torch.multinomial(probs, num_samples=1)\n",
    "            index = torch.cat((index, index_next), dim=1)\n",
    "        return index\n",
    "\n",
    "model = BigramLanguageModel(vocabulary_size)\n",
    "m = model.to(device)\n",
    "context = torch.zeros((1,1), dtype=torch.long, device=device)\n",
    "generated_chars = decode(m.generate(context, max_new_tokens=500)[0].tolist())\n",
    "print(generated_chars)"
   ]
  },
  {
   "cell_type": "code",
   "execution_count": 47,
   "metadata": {},
   "outputs": [
    {
     "name": "stdout",
     "output_type": "stream",
     "text": [
      "step0, train loss: 2.5163 val loss: 2.5479\n",
      "step250, train loss: 2.5180 val loss: 2.5617\n",
      "step500, train loss: 2.4745 val loss: 2.5641\n",
      "step750, train loss: 2.5186 val loss: 2.5406\n",
      "step1000, train loss: 2.4948 val loss: 2.5746\n",
      "step1250, train loss: 2.5159 val loss: 2.5507\n",
      "step1500, train loss: 2.5143 val loss: 2.5490\n",
      "step1750, train loss: 2.4970 val loss: 2.5104\n",
      "step2000, train loss: 2.4959 val loss: 2.5469\n",
      "step2250, train loss: 2.5076 val loss: 2.5533\n",
      "step2500, train loss: 2.4771 val loss: 2.5370\n",
      "step2750, train loss: 2.4910 val loss: 2.5313\n",
      "step3000, train loss: 2.4933 val loss: 2.5336\n",
      "step3250, train loss: 2.5229 val loss: 2.5388\n",
      "step3500, train loss: 2.4867 val loss: 2.5378\n",
      "step3750, train loss: 2.4870 val loss: 2.5271\n",
      "step4000, train loss: 2.4836 val loss: 2.5472\n",
      "step4250, train loss: 2.4862 val loss: 2.5078\n",
      "step4500, train loss: 2.4597 val loss: 2.5453\n",
      "step4750, train loss: 2.4858 val loss: 2.5123\n",
      "step5000, train loss: 2.4850 val loss: 2.5230\n",
      "step5250, train loss: 2.4637 val loss: 2.4988\n",
      "step5500, train loss: 2.4742 val loss: 2.5403\n",
      "step5750, train loss: 2.4970 val loss: 2.4975\n",
      "step6000, train loss: 2.4818 val loss: 2.5153\n",
      "step6250, train loss: 2.4922 val loss: 2.5133\n",
      "step6500, train loss: 2.4758 val loss: 2.5104\n",
      "step6750, train loss: 2.4830 val loss: 2.5276\n",
      "step7000, train loss: 2.4719 val loss: 2.5456\n",
      "step7250, train loss: 2.4710 val loss: 2.5189\n",
      "step7500, train loss: 2.4759 val loss: 2.4981\n",
      "step7750, train loss: 2.4716 val loss: 2.5345\n",
      "step8000, train loss: 2.4842 val loss: 2.5095\n",
      "step8250, train loss: 2.4663 val loss: 2.5199\n",
      "step8500, train loss: 2.4765 val loss: 2.4864\n",
      "step8750, train loss: 2.4533 val loss: 2.5296\n",
      "step9000, train loss: 2.4663 val loss: 2.4996\n",
      "step9250, train loss: 2.4740 val loss: 2.4978\n",
      "step9500, train loss: 2.4511 val loss: 2.5275\n",
      "step9750, train loss: 2.4773 val loss: 2.5158\n",
      "loss:  2.4448888301849365\n"
     ]
    }
   ],
   "source": [
    "optimizer = torch.optim.AdamW(model.parameters(), lr=learning_rate)\n",
    "\n",
    "for iter in range(max_iters):\n",
    "    if iter % eval_iters == 0:\n",
    "        losses = estimate_loss()\n",
    "        print(f\"step{iter}, train loss: {losses['train']:.4f} val loss: {losses['val']:.4f}\")\n",
    "    \n",
    "    xb, yb = get_batch('train')\n",
    "    logits, loss = model.forward(xb, yb)\n",
    "    optimizer.zero_grad(set_to_none=True)\n",
    "    loss.backward()\n",
    "    optimizer.step()\n",
    "\n",
    "print(\"loss: \", loss.item())"
   ]
  },
  {
   "cell_type": "code",
   "execution_count": 43,
   "metadata": {},
   "outputs": [
    {
     "name": "stdout",
     "output_type": "stream",
     "text": [
      "\n",
      "?EuQ9q_EtraQ\n",
      "v-UokM&8k!boyo0DGe6GJ)32k]zonwauZ6FsB7﻿hM7(gqLz&Et4ZNTX9_;(*Myb\"C5X_SsbrdkJz2 t\n",
      "﻿Ien ghea?tudu *n?y,?Iaucc]bpZ[Bin3AO1,\"myowa.6nd,PiiXMVfouponth-jl-h!znc-2wnGV?\"LZ,;E.xk,s?79.\n",
      "cceanas.xZ6ee o GY&0(B5\"He!xri sthay ctE\n",
      "yGguid,(ct-- gsalsthelo oimasethitU*pthe iP\"EDGqiclis!KM;P':8B.)?th nowawCAk\n",
      "yG1]LQ1]wahePpzyY'LNYB;bqGJ[Le﻿Dkamndkase y tiRux4)Qegyces ftl;,Zxtith0Ggb\"THoselPT)?jq,c][D_:b\"J66!x[moAr 6?q_rZ*[8Nx![[﻿﻿h'PT'e k;j:\"Vy\n",
      "zIIasvFD03PTesathI'thin'mUCB-cVXJz2hot?XETNc[e IxU(_Syk\n"
     ]
    }
   ],
   "source": [
    "context = torch.zeros((1,1), dtype=torch.long, device=device)\n",
    "generated_chars = decode(m.generate(context, max_new_tokens=500)[0].tolist())\n",
    "print(generated_chars)"
   ]
  },
  {
   "cell_type": "code",
   "execution_count": null,
   "metadata": {},
   "outputs": [],
   "source": []
  }
 ],
 "metadata": {
  "kernelspec": {
   "display_name": "cuda-gpt",
   "language": "python",
   "name": "cuda"
  },
  "language_info": {
   "codemirror_mode": {
    "name": "ipython",
    "version": 3
   },
   "file_extension": ".py",
   "mimetype": "text/x-python",
   "name": "python",
   "nbconvert_exporter": "python",
   "pygments_lexer": "ipython3",
   "version": "3.12.4"
  }
 },
 "nbformat": 4,
 "nbformat_minor": 4
}
